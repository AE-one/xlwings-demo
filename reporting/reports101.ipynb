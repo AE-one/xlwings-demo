{
 "cells": [
  {
   "cell_type": "code",
   "execution_count": null,
   "metadata": {},
   "outputs": [],
   "source": [
    "from pathlib import Path\n",
    "import pandas as pd\n",
    "from PIL import Image\n",
    "from matplotlib.figure import Figure\n",
    "import xlwings as xw\n",
    "# Requires a license key: https://www.xlwings.org/trial\n",
    "from xlwings.pro.reports import create_report"
   ]
  },
  {
   "cell_type": "markdown",
   "metadata": {},
   "source": [
    "### Some data"
   ]
  },
  {
   "cell_type": "code",
   "execution_count": null,
   "metadata": {},
   "outputs": [],
   "source": [
    "# Matplotlib\n",
    "fig = Figure(figsize=(4, 3))\n",
    "ax = fig.add_subplot(111)\n",
    "ax.plot([1, 2, 3, 4, 5])\n",
    "\n",
    "# Pandas DataFrame\n",
    "perf_data = pd.DataFrame(index=['r1', 'r1'],\n",
    "                         columns=['c0', 'c1'],\n",
    "                         data=[[1., 2.], [3., 4.]])\n",
    "\n",
    "# Picture\n",
    "logo = Image.open(Path('xlwings.jpg'))\n",
    "\n",
    "# Float\n",
    "perf=0.12 * 100\n",
    "\n",
    "# Collect all template vars (optional)\n",
    "data = dict(perf_data=perf_data, logo=logo,\n",
    "            perf=perf, fig=fig)"
   ]
  },
  {
   "cell_type": "markdown",
   "metadata": {},
   "source": [
    "### Basic report creation"
   ]
  },
  {
   "cell_type": "code",
   "execution_count": null,
   "metadata": {},
   "outputs": [],
   "source": [
    "wb = create_report('report_template.xlsx',\n",
    "                   'report.xlsx',\n",
    "                   **data)"
   ]
  },
  {
   "cell_type": "markdown",
   "metadata": {},
   "source": [
    "### Handling App and Book"
   ]
  },
  {
   "cell_type": "code",
   "execution_count": null,
   "metadata": {},
   "outputs": [],
   "source": [
    "wb = create_report('report_template.xlsx',\n",
    "                   'report.xlsx',\n",
    "                   **data,\n",
    "                   app=xw.App(visible=False),\n",
    "                   book_settings={'update_links': False})\n",
    "\n",
    "# Clean up\n",
    "wb.sheets.active['A1'].select()\n",
    "wb.save()\n",
    "wb.close()  # only quits app if visible=False"
   ]
  }
 ],
 "metadata": {
  "kernelspec": {
   "display_name": "Python 3",
   "language": "python",
   "name": "python3"
  },
  "language_info": {
   "codemirror_mode": {
    "name": "ipython",
    "version": 3
   },
   "file_extension": ".py",
   "mimetype": "text/x-python",
   "name": "python",
   "nbconvert_exporter": "python",
   "pygments_lexer": "ipython3",
   "version": "3.7.4"
  }
 },
 "nbformat": 4,
 "nbformat_minor": 4
}
